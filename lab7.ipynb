{
 "cells": [
  {
   "cell_type": "markdown",
   "id": "4ffb0d50-9e6d-4594-bff4-9ead1ad17da1",
   "metadata": {},
   "source": [
    "# Лабораторная работа №7 (Проведение исследований моделями семантической сегментации)"
   ]
  },
  {
   "cell_type": "markdown",
   "id": "bbe9487d-1f71-4b5a-af73-d2d7d463cc8a",
   "metadata": {},
   "source": [
    "## Создание бейзлайна и оценка качества"
   ]
  },
  {
   "cell_type": "markdown",
   "id": "e38803a1-29ef-4cfc-b9b5-15ad7d0b16a9",
   "metadata": {},
   "source": [
    "Загрузка библиотек, если не установлено"
   ]
  },
  {
   "cell_type": "code",
   "execution_count": 1,
   "id": "9b794d1d-89d5-4e13-a6df-ea45625e0538",
   "metadata": {
    "execution": {
     "iopub.execute_input": "2025-04-18T10:57:36.598090Z",
     "iopub.status.busy": "2025-04-18T10:57:36.597778Z",
     "iopub.status.idle": "2025-04-18T10:58:29.705134Z",
     "shell.execute_reply": "2025-04-18T10:58:29.704415Z",
     "shell.execute_reply.started": "2025-04-18T10:57:36.598069Z"
    },
    "tags": []
   },
   "outputs": [
    {
     "name": "stdout",
     "output_type": "stream",
     "text": [
      "Defaulting to user installation because normal site-packages is not writeable\n",
      "Collecting segmentation-models-pytorch\n",
      "  Downloading segmentation_models_pytorch-0.5.0-py3-none-any.whl.metadata (17 kB)\n",
      "Collecting huggingface-hub>=0.24 (from segmentation-models-pytorch)\n",
      "  Downloading huggingface_hub-0.30.2-py3-none-any.whl.metadata (13 kB)\n",
      "Requirement already satisfied: numpy>=1.19.3 in /usr/local/lib/python3.10/dist-packages (from segmentation-models-pytorch) (1.22.4)\n",
      "Requirement already satisfied: pillow>=8 in /usr/local/lib/python3.10/dist-packages (from segmentation-models-pytorch) (9.4.0)\n",
      "Collecting safetensors>=0.3.1 (from segmentation-models-pytorch)\n",
      "  Downloading safetensors-0.5.3-cp38-abi3-manylinux_2_17_x86_64.manylinux2014_x86_64.whl.metadata (3.8 kB)\n",
      "Collecting timm>=0.9 (from segmentation-models-pytorch)\n",
      "  Downloading timm-1.0.15-py3-none-any.whl.metadata (52 kB)\n",
      "Requirement already satisfied: torch>=1.8 in /usr/local/lib/python3.10/dist-packages (from segmentation-models-pytorch) (2.0.1+cu118)\n",
      "Requirement already satisfied: torchvision>=0.9 in /usr/local/lib/python3.10/dist-packages (from segmentation-models-pytorch) (0.15.2+cu118)\n",
      "Requirement already satisfied: tqdm>=4.42.1 in /usr/local/lib/python3.10/dist-packages (from segmentation-models-pytorch) (4.65.0)\n",
      "Requirement already satisfied: filelock in /usr/local/lib/python3.10/dist-packages (from huggingface-hub>=0.24->segmentation-models-pytorch) (3.12.2)\n",
      "Requirement already satisfied: fsspec>=2023.5.0 in /usr/local/lib/python3.10/dist-packages (from huggingface-hub>=0.24->segmentation-models-pytorch) (2023.6.0)\n",
      "Requirement already satisfied: packaging>=20.9 in /usr/local/lib/python3.10/dist-packages (from huggingface-hub>=0.24->segmentation-models-pytorch) (23.1)\n",
      "Requirement already satisfied: pyyaml>=5.1 in /usr/local/lib/python3.10/dist-packages (from huggingface-hub>=0.24->segmentation-models-pytorch) (6.0.1)\n",
      "Requirement already satisfied: requests in /usr/local/lib/python3.10/dist-packages (from huggingface-hub>=0.24->segmentation-models-pytorch) (2.27.1)\n",
      "Requirement already satisfied: typing-extensions>=3.7.4.3 in /usr/local/lib/python3.10/dist-packages (from huggingface-hub>=0.24->segmentation-models-pytorch) (4.7.1)\n",
      "Requirement already satisfied: sympy in /usr/local/lib/python3.10/dist-packages (from torch>=1.8->segmentation-models-pytorch) (1.11.1)\n",
      "Requirement already satisfied: networkx in /usr/local/lib/python3.10/dist-packages (from torch>=1.8->segmentation-models-pytorch) (3.1)\n",
      "Requirement already satisfied: jinja2 in /usr/local/lib/python3.10/dist-packages (from torch>=1.8->segmentation-models-pytorch) (3.1.2)\n",
      "Requirement already satisfied: triton==2.0.0 in /usr/local/lib/python3.10/dist-packages (from torch>=1.8->segmentation-models-pytorch) (2.0.0)\n",
      "Requirement already satisfied: cmake in /usr/local/lib/python3.10/dist-packages (from triton==2.0.0->torch>=1.8->segmentation-models-pytorch) (3.25.2)\n",
      "Requirement already satisfied: lit in /usr/local/lib/python3.10/dist-packages (from triton==2.0.0->torch>=1.8->segmentation-models-pytorch) (16.0.6)\n",
      "Requirement already satisfied: MarkupSafe>=2.0 in /usr/local/lib/python3.10/dist-packages (from jinja2->torch>=1.8->segmentation-models-pytorch) (2.1.3)\n",
      "Requirement already satisfied: urllib3<1.27,>=1.21.1 in /usr/local/lib/python3.10/dist-packages (from requests->huggingface-hub>=0.24->segmentation-models-pytorch) (1.26.16)\n",
      "Requirement already satisfied: certifi>=2017.4.17 in /usr/local/lib/python3.10/dist-packages (from requests->huggingface-hub>=0.24->segmentation-models-pytorch) (2023.7.22)\n",
      "Requirement already satisfied: charset-normalizer~=2.0.0 in /usr/local/lib/python3.10/dist-packages (from requests->huggingface-hub>=0.24->segmentation-models-pytorch) (2.0.12)\n",
      "Requirement already satisfied: idna<4,>=2.5 in /usr/local/lib/python3.10/dist-packages (from requests->huggingface-hub>=0.24->segmentation-models-pytorch) (3.4)\n",
      "Requirement already satisfied: mpmath>=0.19 in /usr/local/lib/python3.10/dist-packages (from sympy->torch>=1.8->segmentation-models-pytorch) (1.3.0)\n",
      "Downloading segmentation_models_pytorch-0.5.0-py3-none-any.whl (154 kB)\n",
      "Downloading huggingface_hub-0.30.2-py3-none-any.whl (481 kB)\n",
      "Downloading safetensors-0.5.3-cp38-abi3-manylinux_2_17_x86_64.manylinux2014_x86_64.whl (471 kB)\n",
      "Downloading timm-1.0.15-py3-none-any.whl (2.4 MB)\n",
      "\u001b[2K   \u001b[90m━━━━━━━━━━━━━━━━━━━━━━━━━━━━━━━━━━━━━━━━\u001b[0m \u001b[32m2.4/2.4 MB\u001b[0m \u001b[31m45.7 MB/s\u001b[0m eta \u001b[36m0:00:00\u001b[0m\n",
      "\u001b[?25hInstalling collected packages: safetensors, huggingface-hub, timm, segmentation-models-pytorch\n",
      "\u001b[33m  WARNING: The script huggingface-cli is installed in '/home/jupyter/.local/bin' which is not on PATH.\n",
      "  Consider adding this directory to PATH or, if you prefer to suppress this warning, use --no-warn-script-location.\u001b[0m\u001b[33m\n",
      "\u001b[0mSuccessfully installed huggingface-hub-0.30.2 safetensors-0.5.3 segmentation-models-pytorch-0.5.0 timm-1.0.15\n",
      "\n",
      "\u001b[1m[\u001b[0m\u001b[34;49mnotice\u001b[0m\u001b[1;39;49m]\u001b[0m\u001b[39;49m A new release of pip is available: \u001b[0m\u001b[31;49m23.0.1\u001b[0m\u001b[39;49m -> \u001b[0m\u001b[32;49m25.0.1\u001b[0m\n",
      "\u001b[1m[\u001b[0m\u001b[34;49mnotice\u001b[0m\u001b[1;39;49m]\u001b[0m\u001b[39;49m To update, run: \u001b[0m\u001b[32;49mpython3 -m pip install --upgrade pip\u001b[0m\n"
     ]
    }
   ],
   "source": [
    "%pip install segmentation-models-pytorch"
   ]
  },
  {
   "cell_type": "code",
   "execution_count": 72,
   "id": "6f95116b-53f8-44ba-8e29-a04256f9e4f8",
   "metadata": {
    "execution": {
     "iopub.execute_input": "2025-04-18T15:37:33.280070Z",
     "iopub.status.busy": "2025-04-18T15:37:33.279623Z",
     "iopub.status.idle": "2025-04-18T15:37:37.620954Z",
     "shell.execute_reply": "2025-04-18T15:37:37.620159Z",
     "shell.execute_reply.started": "2025-04-18T15:37:33.280043Z"
    }
   },
   "outputs": [
    {
     "name": "stdout",
     "output_type": "stream",
     "text": [
      "Defaulting to user installation because normal site-packages is not writeable\n",
      "Collecting einops\n",
      "  Downloading einops-0.8.1-py3-none-any.whl.metadata (13 kB)\n",
      "Downloading einops-0.8.1-py3-none-any.whl (64 kB)\n",
      "Installing collected packages: einops\n",
      "Successfully installed einops-0.8.1\n",
      "\n",
      "\u001b[1m[\u001b[0m\u001b[34;49mnotice\u001b[0m\u001b[1;39;49m]\u001b[0m\u001b[39;49m A new release of pip is available: \u001b[0m\u001b[31;49m23.0.1\u001b[0m\u001b[39;49m -> \u001b[0m\u001b[32;49m25.0.1\u001b[0m\n",
      "\u001b[1m[\u001b[0m\u001b[34;49mnotice\u001b[0m\u001b[1;39;49m]\u001b[0m\u001b[39;49m To update, run: \u001b[0m\u001b[32;49mpython3 -m pip install --upgrade pip\u001b[0m\n"
     ]
    }
   ],
   "source": [
    "%pip install einops"
   ]
  },
  {
   "cell_type": "markdown",
   "id": "30f3a68c-5317-4ce5-823c-0d701abf1210",
   "metadata": {},
   "source": [
    "Импорт библиотек"
   ]
  },
  {
   "cell_type": "code",
   "execution_count": 1,
   "id": "1730be0d-6d9b-404a-ade8-1ef8fc9e0360",
   "metadata": {
    "execution": {
     "iopub.execute_input": "2025-04-18T15:38:44.886764Z",
     "iopub.status.busy": "2025-04-18T15:38:44.885944Z",
     "iopub.status.idle": "2025-04-18T15:38:47.478908Z",
     "shell.execute_reply": "2025-04-18T15:38:47.477947Z",
     "shell.execute_reply.started": "2025-04-18T15:38:44.886725Z"
    },
    "tags": []
   },
   "outputs": [],
   "source": [
    "import cv2\n",
    "import numpy as np\n",
    "import torch\n",
    "import torch.nn as nn\n",
    "import torchvision\n",
    "from segmentation_models_pytorch import Segformer, Unet\n",
    "from sklearn.metrics import f1_score, hamming_loss\n",
    "from torch.utils.data import DataLoader, Dataset\n",
    "from torchvision import transforms\n",
    "from torchvision.datasets import VOCSegmentation\n",
    "\n",
    "import albumentations as A\n",
    "from albumentations.pytorch import ToTensorV2\n",
    "\n",
    "from einops import rearrange, reduce, repeat\n",
    "from einops.layers.torch import Rearrange"
   ]
  },
  {
   "cell_type": "markdown",
   "id": "5eec5a58-62b9-41e9-afd9-f1c21afd1f2c",
   "metadata": {},
   "source": [
    "Создадим функции обучения и оценки"
   ]
  },
  {
   "cell_type": "code",
   "execution_count": 34,
   "id": "2e5909f0-391e-40c5-9c3c-3b366cc6e26c",
   "metadata": {
    "execution": {
     "iopub.execute_input": "2025-04-18T16:07:24.366784Z",
     "iopub.status.busy": "2025-04-18T16:07:24.366337Z",
     "iopub.status.idle": "2025-04-18T16:07:24.383575Z",
     "shell.execute_reply": "2025-04-18T16:07:24.382856Z",
     "shell.execute_reply.started": "2025-04-18T16:07:24.366763Z"
    },
    "tags": []
   },
   "outputs": [],
   "source": [
    "def train_one_epoch(model, train_loader, criterion, optimizer, device):\n",
    "    model.train()\n",
    "    running_loss = 0.0\n",
    "    for images, masks in train_loader:\n",
    "        images = images.to(device)\n",
    "        masks = masks.to(device)\n",
    "\n",
    "        optimizer.zero_grad()\n",
    "\n",
    "        outputs = model(images)\n",
    "        loss = criterion(outputs, masks)\n",
    "\n",
    "        loss.backward()\n",
    "        optimizer.step()\n",
    "\n",
    "        running_loss += loss.item() * images.size(0)\n",
    "\n",
    "    epoch_loss = running_loss / len(train_loader.dataset)\n",
    "    print(f\"Train Loss: {epoch_loss:.4f}\")"
   ]
  },
  {
   "cell_type": "code",
   "execution_count": 11,
   "id": "7a58e4f0-47b3-4b31-b1a4-8a452dd4bde3",
   "metadata": {
    "execution": {
     "iopub.execute_input": "2025-04-18T15:39:29.379711Z",
     "iopub.status.busy": "2025-04-18T15:39:29.379356Z",
     "iopub.status.idle": "2025-04-18T15:39:29.394280Z",
     "shell.execute_reply": "2025-04-18T15:39:29.393478Z",
     "shell.execute_reply.started": "2025-04-18T15:39:29.379692Z"
    },
    "tags": []
   },
   "outputs": [],
   "source": [
    "def evaluate(model, val_loader, device):\n",
    "    model.eval()\n",
    "    \n",
    "    all_preds = []\n",
    "    all_labels = []\n",
    "\n",
    "    with torch.no_grad():\n",
    "        for images, masks in val_loader:\n",
    "            images = images.to(device)\n",
    "            masks = masks.to(device)\n",
    "\n",
    "            outputs = model(images)\n",
    "            preds = torch.argmax(outputs, dim=1).cpu().numpy().flatten()\n",
    "            masks = masks.cpu().numpy().flatten()\n",
    "\n",
    "            all_preds.extend(preds)\n",
    "            all_labels.extend(masks)\n",
    "\n",
    "    # Вычисляем метрики\n",
    "    # Пропускаем игнорируемые индексы\n",
    "    idx = (np.array(all_labels) != 255)\n",
    "    all_preds = np.array(all_preds)[idx]\n",
    "    all_labels = np.array(all_labels)[idx]\n",
    "    \n",
    "    f1 = f1_score(all_labels, all_preds, average='weighted')\n",
    "    h_loss = hamming_loss(all_labels, all_preds)\n",
    "\n",
    "    # mAP как IoU среднее по всем классам\n",
    "    mAP = np.mean([np.sum((all_preds == i) & (all_labels == i)) / np.sum((all_preds == i) | (all_labels == i)) \n",
    "                    for i in range(NUM_CLASSES) if np.sum(all_labels == i) > 0])\n",
    "\n",
    "    print(f\"Hamming Loss: {h_loss:.4f}\")\n",
    "    print(f\"F1 Score: {f1:.4f}\")\n",
    "    print(f\"mAP (mean IoU): {mAP:.4f}\")"
   ]
  },
  {
   "cell_type": "markdown",
   "id": "cddffae6-193d-45dc-b6f8-0f529d223f27",
   "metadata": {},
   "source": [
    "Зададим параметры"
   ]
  },
  {
   "cell_type": "code",
   "execution_count": 5,
   "id": "604ec335-e495-4cb0-bf02-81bbe2361a4d",
   "metadata": {
    "execution": {
     "iopub.execute_input": "2025-04-18T15:38:58.172330Z",
     "iopub.status.busy": "2025-04-18T15:38:58.171830Z",
     "iopub.status.idle": "2025-04-18T15:38:58.183865Z",
     "shell.execute_reply": "2025-04-18T15:38:58.183172Z",
     "shell.execute_reply.started": "2025-04-18T15:38:58.172305Z"
    },
    "tags": []
   },
   "outputs": [],
   "source": [
    "VOC_CLASSES = [\n",
    "    \"background\",\n",
    "    \"aeroplane\",\n",
    "    \"bicycle\",\n",
    "    \"bird\",\n",
    "    \"boat\",\n",
    "    \"bottle\",\n",
    "    \"bus\",\n",
    "    \"car\",\n",
    "    \"cat\",\n",
    "    \"chair\",\n",
    "    \"cow\",\n",
    "    \"diningtable\",\n",
    "    \"dog\",\n",
    "    \"horse\",\n",
    "    \"motorbike\",\n",
    "    \"person\",\n",
    "    \"potted plant\",\n",
    "    \"sheep\",\n",
    "    \"sofa\",\n",
    "    \"train\",\n",
    "    \"tv/monitor\",\n",
    "]\n",
    "\n",
    "LEARNING_RATE = 0.0001\n",
    "BATCH_SIZE = 10\n",
    "NUM_CLASSES = len(VOC_CLASSES)\n",
    "INPUT_DIM = (320, 320)"
   ]
  },
  {
   "cell_type": "markdown",
   "id": "6415b524-7bc1-4563-9380-6edb6480e3f1",
   "metadata": {},
   "source": [
    "Загрузка датасетов"
   ]
  },
  {
   "cell_type": "code",
   "execution_count": 35,
   "id": "59833a5e-52b2-4706-86d5-f0adcacb6fc8",
   "metadata": {
    "execution": {
     "iopub.execute_input": "2025-04-18T12:10:43.492713Z",
     "iopub.status.busy": "2025-04-18T12:10:43.492191Z",
     "iopub.status.idle": "2025-04-18T12:10:43.517484Z",
     "shell.execute_reply": "2025-04-18T12:10:43.516701Z",
     "shell.execute_reply.started": "2025-04-18T12:10:43.492691Z"
    },
    "tags": []
   },
   "outputs": [],
   "source": [
    "transform = transforms.Compose(\n",
    "    [\n",
    "        transforms.Resize(INPUT_DIM),\n",
    "        transforms.ToTensor(),\n",
    "        transforms.Normalize(mean=(0.485, 0.456, 0.406), std=(0.229, 0.224, 0.225)),\n",
    "    ]\n",
    ")\n",
    "target_transform = transforms.Compose(\n",
    "    [\n",
    "        transforms.Resize(\n",
    "            INPUT_DIM, interpolation=transforms.InterpolationMode.NEAREST\n",
    "        ),\n",
    "        transforms.Lambda(lambda t: torch.as_tensor(np.array(t), dtype=torch.int64)),\n",
    "    ]\n",
    ")\n",
    "\n",
    "train_dataset = VOCSegmentation(\n",
    "    root=\"./data\",\n",
    "    year=\"2007\",\n",
    "    image_set=\"train\",\n",
    "    transform=transform,\n",
    "    target_transform=target_transform,\n",
    ")\n",
    "test_dataset = VOCSegmentation(\n",
    "    root=\"./data\",\n",
    "    year=\"2007\",\n",
    "    image_set=\"val\",\n",
    "    transform=transform,\n",
    "    target_transform=target_transform,\n",
    ")\n",
    "\n",
    "train_loader = DataLoader(\n",
    "    dataset=train_dataset,\n",
    "    batch_size=BATCH_SIZE,\n",
    "    shuffle=True,\n",
    ")\n",
    "test_loader = DataLoader(\n",
    "    dataset=test_dataset,\n",
    "    batch_size=BATCH_SIZE,\n",
    "    shuffle=False,\n",
    ")"
   ]
  },
  {
   "cell_type": "markdown",
   "id": "27e3d801-a03e-45ee-bede-86341f48e244",
   "metadata": {},
   "source": [
    "### Обучение моделей"
   ]
  },
  {
   "cell_type": "markdown",
   "id": "ce2e9ef2-8c0d-4ac3-89d4-4e6fc87d6bf2",
   "metadata": {},
   "source": [
    "Инициализация моделей Unet и Segformer"
   ]
  },
  {
   "cell_type": "code",
   "execution_count": 7,
   "id": "5caafae1-a27a-4744-b6de-16c7a377e7bf",
   "metadata": {
    "execution": {
     "iopub.execute_input": "2025-04-18T15:39:14.725512Z",
     "iopub.status.busy": "2025-04-18T15:39:14.725049Z",
     "iopub.status.idle": "2025-04-18T15:39:18.114275Z",
     "shell.execute_reply": "2025-04-18T15:39:18.113349Z",
     "shell.execute_reply.started": "2025-04-18T15:39:14.725484Z"
    },
    "tags": []
   },
   "outputs": [],
   "source": [
    "device = torch.device(\"cpu\") # torch.device(\"cuda\" if torch.cuda.is_available() else \"cpu\")\n",
    "\n",
    "model_unet = Unet(\n",
    "    encoder_name=\"resnet34\",\n",
    "    encoder_weights=\"imagenet\",\n",
    "    classes=NUM_CLASSES,\n",
    "    activation=None\n",
    ")\n",
    "model_unet.to(device)\n",
    "criterion_unet = nn.CrossEntropyLoss(ignore_index=255)\n",
    "optimizer_unet = torch.optim.Adam(model_unet.parameters(), lr=LEARNING_RATE)\n",
    "\n",
    "model_segformer = Segformer(\n",
    "    encoder_name=\"resnet34\",\n",
    "    encoder_weights=\"imagenet\",\n",
    "    classes=NUM_CLASSES,\n",
    ")\n",
    "model_segformer.to(device)\n",
    "criterion_segformer = nn.CrossEntropyLoss(ignore_index=255)\n",
    "optimizer_segformer = torch.optim.Adam(model_segformer.parameters(), lr=LEARNING_RATE)"
   ]
  },
  {
   "cell_type": "markdown",
   "id": "b033246b-0e9e-4b5e-9394-bfbbbe05bf14",
   "metadata": {},
   "source": [
    "Обучение модели Unet"
   ]
  },
  {
   "cell_type": "code",
   "execution_count": 10,
   "id": "4386cdc9-1f9b-401c-92ca-4fd40fb85e77",
   "metadata": {
    "execution": {
     "iopub.execute_input": "2025-04-18T11:31:51.714944Z",
     "iopub.status.busy": "2025-04-18T11:31:51.714603Z",
     "iopub.status.idle": "2025-04-18T11:32:31.036175Z",
     "shell.execute_reply": "2025-04-18T11:32:31.035233Z",
     "shell.execute_reply.started": "2025-04-18T11:31:51.714923Z"
    },
    "tags": []
   },
   "outputs": [
    {
     "name": "stdout",
     "output_type": "stream",
     "text": [
      "Train Loss: 2.9815\n"
     ]
    }
   ],
   "source": [
    "train_one_epoch(\n",
    "    model=model_unet,\n",
    "    train_loader=train_loader,\n",
    "    criterion=criterion_unet,\n",
    "    optimizer=optimizer_unet,\n",
    "    device=device,\n",
    ")"
   ]
  },
  {
   "cell_type": "markdown",
   "id": "edefb2a0-5846-4673-8c79-21dc01706c8f",
   "metadata": {},
   "source": [
    "Обучение модели Segformer"
   ]
  },
  {
   "cell_type": "code",
   "execution_count": 41,
   "id": "2733c9d8-1366-4320-9fcd-4327bee5c0fb",
   "metadata": {
    "execution": {
     "iopub.execute_input": "2025-04-18T13:43:42.112458Z",
     "iopub.status.busy": "2025-04-18T13:43:42.112087Z",
     "iopub.status.idle": "2025-04-18T13:44:19.921124Z",
     "shell.execute_reply": "2025-04-18T13:44:19.920124Z",
     "shell.execute_reply.started": "2025-04-18T13:43:42.112436Z"
    },
    "tags": []
   },
   "outputs": [
    {
     "name": "stdout",
     "output_type": "stream",
     "text": [
      "Train Loss: 3.8079\n"
     ]
    }
   ],
   "source": [
    "train_one_epoch(\n",
    "    model=model_segformer,\n",
    "    train_loader=train_loader,\n",
    "    criterion=criterion_segformer,\n",
    "    optimizer=optimizer_segformer,\n",
    "    device=device,\n",
    ")"
   ]
  },
  {
   "cell_type": "markdown",
   "id": "74a8ec66-4b7a-4e93-8615-a98438a98446",
   "metadata": {},
   "source": [
    "### Оценка качества модели"
   ]
  },
  {
   "cell_type": "markdown",
   "id": "da1f76ee-7318-4788-be9a-8a8ed8cd7b4e",
   "metadata": {},
   "source": [
    "Оценка модели Unet"
   ]
  },
  {
   "cell_type": "code",
   "execution_count": 17,
   "id": "b994da7b-a24b-4235-9570-28e968c17853",
   "metadata": {
    "execution": {
     "iopub.execute_input": "2025-04-18T11:42:34.708857Z",
     "iopub.status.busy": "2025-04-18T11:42:34.708363Z",
     "iopub.status.idle": "2025-04-18T11:43:02.097786Z",
     "shell.execute_reply": "2025-04-18T11:43:02.096849Z",
     "shell.execute_reply.started": "2025-04-18T11:42:34.708835Z"
    },
    "tags": []
   },
   "outputs": [
    {
     "name": "stdout",
     "output_type": "stream",
     "text": [
      "Hamming Loss: 0.7594\n",
      "F1 Score: 0.3290\n",
      "mAP (mean IoU): 0.0290\n"
     ]
    }
   ],
   "source": [
    "evaluate(model=model_unet, val_loader=test_loader, device=device)"
   ]
  },
  {
   "cell_type": "markdown",
   "id": "9bfbf97b-3c4b-419c-b848-40d59f1fb6c0",
   "metadata": {},
   "source": [
    "Оценка модели Segformer"
   ]
  },
  {
   "cell_type": "code",
   "execution_count": 42,
   "id": "3dddbb33-427e-494d-9092-fd7ba1cb9b1b",
   "metadata": {
    "execution": {
     "iopub.execute_input": "2025-04-18T13:44:19.922805Z",
     "iopub.status.busy": "2025-04-18T13:44:19.922406Z",
     "iopub.status.idle": "2025-04-18T13:44:43.185758Z",
     "shell.execute_reply": "2025-04-18T13:44:43.184875Z",
     "shell.execute_reply.started": "2025-04-18T13:44:19.922772Z"
    },
    "tags": []
   },
   "outputs": [
    {
     "name": "stdout",
     "output_type": "stream",
     "text": [
      "Hamming Loss: 0.9767\n",
      "F1 Score: 0.0161\n",
      "mAP (mean IoU): 0.0175\n"
     ]
    }
   ],
   "source": [
    "evaluate(model=model_segformer, val_loader=test_loader, device=device)"
   ]
  },
  {
   "cell_type": "markdown",
   "id": "dca641ff-fe0f-403e-9668-a1847d99e93e",
   "metadata": {},
   "source": [
    "## Улучшение бейзлайна\n",
    "\n",
    "### Формулирование гипотез\n",
    "\n",
    "#### Гипотеза 1: Аугментация данных\n",
    "\n",
    "Цель: Повышение генерализирующей способности модели путем создания более разнообразного набора данных.\n",
    "\n",
    "#### Гипотеза 2: Подбор гиперпараметров\n",
    "\n",
    "Цель: Найти оптимальные гиперпараметры для улучшения обучения и обобщения."
   ]
  },
  {
   "cell_type": "markdown",
   "id": "21c0a7f0-4ca4-4219-9ad3-c791fdbd27db",
   "metadata": {},
   "source": [
    "### Проверка гипотез"
   ]
  },
  {
   "cell_type": "markdown",
   "id": "c31fbd0a-01e8-481c-92a0-328854a8bc1a",
   "metadata": {},
   "source": [
    "#### Аугментация данных"
   ]
  },
  {
   "cell_type": "markdown",
   "id": "baa4f672-f716-4846-a8e9-d65c9a270230",
   "metadata": {},
   "source": [
    "Настройка аугментации и создание датасета"
   ]
  },
  {
   "cell_type": "code",
   "execution_count": 42,
   "id": "b89c6cf8-cd67-4259-a04d-53330729e1f4",
   "metadata": {
    "execution": {
     "iopub.execute_input": "2025-04-18T16:21:06.087371Z",
     "iopub.status.busy": "2025-04-18T16:21:06.086870Z",
     "iopub.status.idle": "2025-04-18T16:21:06.110058Z",
     "shell.execute_reply": "2025-04-18T16:21:06.109331Z",
     "shell.execute_reply.started": "2025-04-18T16:21:06.087325Z"
    },
    "tags": []
   },
   "outputs": [],
   "source": [
    "# Класс для аугментации данных и преобразования в тензоры\n",
    "class VOCDataset(Dataset):\n",
    "    def __init__(self, voc_dataset, augmentations=None):\n",
    "        self.voc_dataset = voc_dataset\n",
    "        self.augmentations = augmentations\n",
    "\n",
    "    def __len__(self):\n",
    "        return len(self.voc_dataset)\n",
    "\n",
    "    def __getitem__(self, idx):\n",
    "        img, mask = self.voc_dataset[idx]\n",
    "        img = np.array(img)\n",
    "        mask = np.array(mask)\n",
    "\n",
    "        if self.augmentations:\n",
    "            augmented = self.augmentations(image=img, mask=mask)\n",
    "            img = augmented['image']\n",
    "            mask = augmented['mask']\n",
    "\n",
    "        # конвертация маски обратно в long тип для CrossEntropyLoss\n",
    "        mask = mask.clone().detach().type(torch.long)\n",
    "\n",
    "        return img, mask\n",
    "\n",
    "# Аугментация\n",
    "augmentations = A.Compose([\n",
    "    A.Resize(*INPUT_DIM),\n",
    "    A.HorizontalFlip(p=0.5),\n",
    "    A.RandomBrightnessContrast(p=0.1),\n",
    "    A.Normalize(mean=(0.485, 0.456, 0.406), std=(0.229, 0.224, 0.225)),\n",
    "    ToTensorV2(transpose_mask=True),\n",
    "])\n",
    "\n",
    "# Создание датасета с аугментацией\n",
    "train_dataset_aug_orig = VOCSegmentation(\n",
    "    root=\"./data\",\n",
    "    year=\"2007\",\n",
    "    image_set=\"train\",\n",
    ")\n",
    "\n",
    "train_dataset_aug = VOCDataset(train_dataset_aug_orig, augmentations=augmentations)\n",
    "\n",
    "train_loader_aug = DataLoader(\n",
    "    dataset=train_dataset_aug,\n",
    "    batch_size=BATCH_SIZE,\n",
    "    shuffle=True\n",
    ")"
   ]
  },
  {
   "cell_type": "markdown",
   "id": "214ed32f-7b2d-49c2-8ced-eb288aba9afc",
   "metadata": {},
   "source": [
    "Обучение и оценка модели Unet"
   ]
  },
  {
   "cell_type": "code",
   "execution_count": 30,
   "id": "b82575b6-b70e-4ed8-8f93-ef7ab370bc8e",
   "metadata": {
    "execution": {
     "iopub.execute_input": "2025-04-18T12:04:15.191560Z",
     "iopub.status.busy": "2025-04-18T12:04:15.190808Z",
     "iopub.status.idle": "2025-04-18T12:05:21.361281Z",
     "shell.execute_reply": "2025-04-18T12:05:21.360400Z",
     "shell.execute_reply.started": "2025-04-18T12:04:15.191538Z"
    },
    "tags": []
   },
   "outputs": [
    {
     "name": "stdout",
     "output_type": "stream",
     "text": [
      "Train Loss: 3.4658\n",
      "Hamming Loss: 0.9861\n",
      "F1 Score: 0.0100\n",
      "mAP (mean IoU): 0.0075\n"
     ]
    }
   ],
   "source": [
    "model_unet = Unet(\n",
    "    encoder_name=\"resnet34\",\n",
    "    encoder_weights=\"imagenet\",\n",
    "    classes=NUM_CLASSES,\n",
    "    activation=None\n",
    ")\n",
    "model_unet.to(device)\n",
    "\n",
    "train_one_epoch(\n",
    "    model=model_unet,\n",
    "    train_loader=train_loader_aug,\n",
    "    criterion=criterion_unet,\n",
    "    optimizer=optimizer_unet,\n",
    "    device=device,\n",
    ")\n",
    "\n",
    "evaluate(model=model_unet, val_loader=test_loader, device=device)"
   ]
  },
  {
   "cell_type": "markdown",
   "id": "4f6f5003-4528-4d4f-b158-cbaa5238b3dc",
   "metadata": {},
   "source": [
    "Обучение и оценка модели Segformer"
   ]
  },
  {
   "cell_type": "code",
   "execution_count": 44,
   "id": "82123675-6f5b-4cdd-b069-efd7ebd30015",
   "metadata": {
    "execution": {
     "iopub.execute_input": "2025-04-18T14:03:19.099614Z",
     "iopub.status.busy": "2025-04-18T14:03:19.098757Z",
     "iopub.status.idle": "2025-04-18T14:04:20.091084Z",
     "shell.execute_reply": "2025-04-18T14:04:20.090170Z",
     "shell.execute_reply.started": "2025-04-18T14:03:19.099592Z"
    },
    "tags": []
   },
   "outputs": [
    {
     "name": "stdout",
     "output_type": "stream",
     "text": [
      "Train Loss: 3.5348\n",
      "Hamming Loss: 0.9725\n",
      "F1 Score: 0.0433\n",
      "mAP (mean IoU): 0.0052\n"
     ]
    }
   ],
   "source": [
    "model_segformer = Segformer(\n",
    "    encoder_name=\"resnet34\",\n",
    "    encoder_weights=\"imagenet\",\n",
    "    classes=NUM_CLASSES,\n",
    ")\n",
    "model_segformer.to(device)\n",
    "\n",
    "train_one_epoch(\n",
    "    model=model_segformer,\n",
    "    train_loader=train_loader_aug,\n",
    "    criterion=criterion_segformer,\n",
    "    optimizer=optimizer_segformer,\n",
    "    device=device,\n",
    ")\n",
    "\n",
    "evaluate(model=model_segformer, val_loader=test_loader, device=device)"
   ]
  },
  {
   "cell_type": "markdown",
   "id": "21eb0d81-5e5e-4029-ab9b-e2198cad91aa",
   "metadata": {},
   "source": [
    "#### Подбор гиперпараметров"
   ]
  },
  {
   "cell_type": "markdown",
   "id": "f1ce4fb9-017f-49fa-8bd9-7001bfd6dbbe",
   "metadata": {},
   "source": [
    "Попробуем увелечить количество эпох и уменьшить learning_rate"
   ]
  },
  {
   "cell_type": "code",
   "execution_count": 37,
   "id": "771bd362-3dbd-44ed-97f3-bf00210c36f5",
   "metadata": {
    "execution": {
     "iopub.execute_input": "2025-04-18T12:14:21.568464Z",
     "iopub.status.busy": "2025-04-18T12:14:21.567862Z",
     "iopub.status.idle": "2025-04-18T12:14:21.581069Z",
     "shell.execute_reply": "2025-04-18T12:14:21.580363Z",
     "shell.execute_reply.started": "2025-04-18T12:14:21.568441Z"
    },
    "tags": []
   },
   "outputs": [],
   "source": [
    "EPOCHS=10\n",
    "LEARNING_RATE=0.00001"
   ]
  },
  {
   "cell_type": "markdown",
   "id": "2718a902-ba72-49d5-ba57-176cf7cbb8ea",
   "metadata": {},
   "source": [
    "Обучение и оценка модели Unet"
   ]
  },
  {
   "cell_type": "code",
   "execution_count": 38,
   "id": "a162844d-9118-47b7-9d3d-1785e69588b5",
   "metadata": {
    "execution": {
     "iopub.execute_input": "2025-04-18T12:14:22.711471Z",
     "iopub.status.busy": "2025-04-18T12:14:22.711041Z",
     "iopub.status.idle": "2025-04-18T12:21:17.163823Z",
     "shell.execute_reply": "2025-04-18T12:21:17.163028Z",
     "shell.execute_reply.started": "2025-04-18T12:14:22.711452Z"
    },
    "tags": []
   },
   "outputs": [
    {
     "name": "stdout",
     "output_type": "stream",
     "text": [
      "EPOCH 1\n",
      "Train Loss: 2.9824\n",
      "EPOCH 2\n",
      "Train Loss: 2.9054\n",
      "EPOCH 3\n",
      "Train Loss: 2.8424\n",
      "EPOCH 4\n",
      "Train Loss: 2.7843\n",
      "EPOCH 5\n",
      "Train Loss: 2.7265\n",
      "EPOCH 6\n",
      "Train Loss: 2.6712\n",
      "EPOCH 7\n",
      "Train Loss: 2.6189\n",
      "EPOCH 8\n",
      "Train Loss: 2.5713\n",
      "EPOCH 9\n",
      "Train Loss: 2.5276\n",
      "EPOCH 10\n",
      "Train Loss: 2.4873\n",
      "Hamming Loss: 0.5363\n",
      "F1 Score: 0.5508\n",
      "mAP (mean IoU): 0.0493\n"
     ]
    }
   ],
   "source": [
    "model_unet = Unet(\n",
    "    encoder_name=\"resnet34\",\n",
    "    encoder_weights=\"imagenet\",\n",
    "    classes=NUM_CLASSES,\n",
    "    activation=None\n",
    ")\n",
    "model_unet.to(device)\n",
    "criterion_unet = nn.CrossEntropyLoss(ignore_index=255)\n",
    "optimizer_unet = torch.optim.Adam(model_unet.parameters(), lr=LEARNING_RATE)\n",
    "\n",
    "for i in range(EPOCHS):\n",
    "    print(f\"EPOCH {i+1}\")\n",
    "    train_one_epoch(\n",
    "        model=model_unet,\n",
    "        train_loader=train_loader,\n",
    "        criterion=criterion_unet,\n",
    "        optimizer=optimizer_unet,\n",
    "        device=device,\n",
    "    )\n",
    "\n",
    "evaluate(model=model_unet, val_loader=test_loader, device=device)"
   ]
  },
  {
   "cell_type": "markdown",
   "id": "fb6fa1da-350f-4063-ae8c-a4eb210edc02",
   "metadata": {},
   "source": [
    "Обучение и оценка модели Segformer"
   ]
  },
  {
   "cell_type": "code",
   "execution_count": 51,
   "id": "586e586e-2010-496b-a61d-a5281743a08f",
   "metadata": {
    "execution": {
     "iopub.execute_input": "2025-04-18T14:24:34.998233Z",
     "iopub.status.busy": "2025-04-18T14:24:34.997435Z",
     "iopub.status.idle": "2025-04-18T14:31:11.726592Z",
     "shell.execute_reply": "2025-04-18T14:31:11.725566Z",
     "shell.execute_reply.started": "2025-04-18T14:24:34.998205Z"
    },
    "tags": []
   },
   "outputs": [
    {
     "name": "stdout",
     "output_type": "stream",
     "text": [
      "EPOCH 1\n",
      "Train Loss: 3.1200\n",
      "EPOCH 2\n",
      "Train Loss: 3.1246\n",
      "EPOCH 3\n",
      "Train Loss: 3.1145\n",
      "EPOCH 4\n",
      "Train Loss: 3.1172\n",
      "EPOCH 5\n",
      "Train Loss: 3.1169\n",
      "EPOCH 6\n",
      "Train Loss: 3.1220\n",
      "EPOCH 7\n",
      "Train Loss: 3.1169\n",
      "EPOCH 8\n",
      "Train Loss: 3.1207\n",
      "EPOCH 9\n",
      "Train Loss: 3.1251\n",
      "EPOCH 10\n",
      "Train Loss: 3.1106\n",
      "Hamming Loss: 0.9125\n",
      "F1 Score: 0.1435\n",
      "mAP (mean IoU): 0.0109\n"
     ]
    }
   ],
   "source": [
    "model_segformer = Segformer(\n",
    "    encoder_name=\"resnet34\",\n",
    "    encoder_weights=\"imagenet\",\n",
    "    classes=NUM_CLASSES,\n",
    ")\n",
    "model_segformer.to(device)\n",
    "criterion_segformer = nn.CrossEntropyLoss(ignore_index=255)\n",
    "optimizer_segformer = torch.optim.Adam(model_unet.parameters(), lr=LEARNING_RATE)\n",
    "\n",
    "for i in range(EPOCHS):\n",
    "    print(f\"EPOCH {i+1}\")\n",
    "    train_one_epoch(\n",
    "        model=model_segformer,\n",
    "        train_loader=train_loader,\n",
    "        criterion=criterion_segformer,\n",
    "        optimizer=optimizer_segformer,\n",
    "        device=device,\n",
    "    )\n",
    "\n",
    "evaluate(model=model_segformer, val_loader=test_loader, device=device)"
   ]
  },
  {
   "cell_type": "markdown",
   "id": "11956431-967a-4403-92cc-ab17c3436f31",
   "metadata": {},
   "source": [
    "### Формирование улучшенного бейзлайна"
   ]
  },
  {
   "cell_type": "markdown",
   "id": "870208f8-d0b6-4afc-98f2-cdc2d3754c2d",
   "metadata": {},
   "source": [
    "Сформируем датасет с аугментацией"
   ]
  },
  {
   "cell_type": "code",
   "execution_count": 52,
   "id": "871b2b24-0170-40cb-bb83-d5675330abec",
   "metadata": {
    "execution": {
     "iopub.execute_input": "2025-04-18T14:31:38.120762Z",
     "iopub.status.busy": "2025-04-18T14:31:38.120301Z",
     "iopub.status.idle": "2025-04-18T14:31:38.141310Z",
     "shell.execute_reply": "2025-04-18T14:31:38.140493Z",
     "shell.execute_reply.started": "2025-04-18T14:31:38.120741Z"
    },
    "tags": []
   },
   "outputs": [],
   "source": [
    "train_dataset_orig = VOCSegmentation(\n",
    "    root=\"./data\",\n",
    "    year=\"2007\",\n",
    "    image_set=\"train\",\n",
    ")\n",
    "\n",
    "train_dataset = VOCDataset(train_dataset_orig, augmentations=augmentations)\n",
    "\n",
    "train_loader = DataLoader(\n",
    "    dataset=train_dataset,\n",
    "    batch_size=BATCH_SIZE,\n",
    "    shuffle=True\n",
    ")"
   ]
  },
  {
   "cell_type": "markdown",
   "id": "1e954a86-9893-4285-ab5e-597e5b41af91",
   "metadata": {},
   "source": [
    "Сформируем бейзлайн для Unet"
   ]
  },
  {
   "cell_type": "code",
   "execution_count": 57,
   "id": "9e023d4e-a4fa-460b-8716-9e9c19577bb4",
   "metadata": {
    "execution": {
     "iopub.execute_input": "2025-04-18T14:38:44.382650Z",
     "iopub.status.busy": "2025-04-18T14:38:44.381984Z",
     "iopub.status.idle": "2025-04-18T14:38:44.662192Z",
     "shell.execute_reply": "2025-04-18T14:38:44.661440Z",
     "shell.execute_reply.started": "2025-04-18T14:38:44.382615Z"
    },
    "tags": []
   },
   "outputs": [],
   "source": [
    "EPOCHS=10\n",
    "LEARNING_RATE=0.00001\n",
    "\n",
    "model_unet = Unet(\n",
    "    encoder_name=\"resnet34\",\n",
    "    encoder_weights=\"imagenet\",\n",
    "    classes=NUM_CLASSES,\n",
    "    activation=None\n",
    ")\n",
    "model_unet.to(device)\n",
    "criterion_unet = nn.CrossEntropyLoss(ignore_index=255)\n",
    "optimizer_unet = torch.optim.Adam(model_unet.parameters(), lr=LEARNING_RATE)"
   ]
  },
  {
   "cell_type": "markdown",
   "id": "9971134b-a139-4548-a953-0e84610c3510",
   "metadata": {},
   "source": [
    "Сформируем бейзлайн для Segformer"
   ]
  },
  {
   "cell_type": "code",
   "execution_count": 58,
   "id": "b7a33887-7e60-456c-a266-7cd7c671bae7",
   "metadata": {
    "execution": {
     "iopub.execute_input": "2025-04-18T14:38:45.814042Z",
     "iopub.status.busy": "2025-04-18T14:38:45.813585Z",
     "iopub.status.idle": "2025-04-18T14:38:46.074500Z",
     "shell.execute_reply": "2025-04-18T14:38:46.073719Z",
     "shell.execute_reply.started": "2025-04-18T14:38:45.814011Z"
    },
    "tags": []
   },
   "outputs": [],
   "source": [
    "model_segformer = Segformer(\n",
    "    encoder_name=\"resnet34\",\n",
    "    encoder_weights=\"imagenet\",\n",
    "    classes=NUM_CLASSES,\n",
    ")\n",
    "model_segformer.to(device)\n",
    "criterion_segformer = nn.CrossEntropyLoss(ignore_index=255)\n",
    "optimizer_segformer = torch.optim.Adam(model_unet.parameters(), lr=LEARNING_RATE)"
   ]
  },
  {
   "cell_type": "markdown",
   "id": "da754ebd-22a7-4151-93fc-6cc9631de5fe",
   "metadata": {},
   "source": [
    "### Обучение моделей"
   ]
  },
  {
   "cell_type": "markdown",
   "id": "6613c574-e3b0-4082-8388-62bff7253714",
   "metadata": {},
   "source": [
    "Обучение Unet"
   ]
  },
  {
   "cell_type": "code",
   "execution_count": 59,
   "id": "c0031226-9f57-450e-96f4-fbbcc74e724c",
   "metadata": {
    "execution": {
     "iopub.execute_input": "2025-04-18T14:38:47.930370Z",
     "iopub.status.busy": "2025-04-18T14:38:47.929832Z",
     "iopub.status.idle": "2025-04-18T14:45:17.553227Z",
     "shell.execute_reply": "2025-04-18T14:45:17.551957Z",
     "shell.execute_reply.started": "2025-04-18T14:38:47.930335Z"
    },
    "tags": []
   },
   "outputs": [
    {
     "name": "stdout",
     "output_type": "stream",
     "text": [
      "EPOCH 1\n",
      "Train Loss: 3.0118\n",
      "EPOCH 2\n",
      "Train Loss: 2.9388\n",
      "EPOCH 3\n",
      "Train Loss: 2.8761\n",
      "EPOCH 4\n",
      "Train Loss: 2.8160\n",
      "EPOCH 5\n",
      "Train Loss: 2.7545\n",
      "EPOCH 6\n",
      "Train Loss: 2.7000\n",
      "EPOCH 7\n",
      "Train Loss: 2.6372\n",
      "EPOCH 8\n",
      "Train Loss: 2.5788\n",
      "EPOCH 9\n",
      "Train Loss: 2.5146\n",
      "EPOCH 10\n",
      "Train Loss: 2.4750\n"
     ]
    }
   ],
   "source": [
    "for i in range(EPOCHS):\n",
    "    print(f\"EPOCH {i+1}\")\n",
    "    train_one_epoch(\n",
    "        model=model_unet,\n",
    "        train_loader=train_loader,\n",
    "        criterion=criterion_unet,\n",
    "        optimizer=optimizer_unet,\n",
    "        device=device,\n",
    "    )"
   ]
  },
  {
   "cell_type": "markdown",
   "id": "7534aa1c-99da-4daa-8afb-a8b700f1621c",
   "metadata": {},
   "source": [
    "Обучение Segformer"
   ]
  },
  {
   "cell_type": "code",
   "execution_count": 60,
   "id": "1231c54b-3240-4a52-9274-80e90e54d2ce",
   "metadata": {
    "execution": {
     "iopub.execute_input": "2025-04-18T14:45:17.555052Z",
     "iopub.status.busy": "2025-04-18T14:45:17.554665Z",
     "iopub.status.idle": "2025-04-18T14:51:23.729896Z",
     "shell.execute_reply": "2025-04-18T14:51:23.728892Z",
     "shell.execute_reply.started": "2025-04-18T14:45:17.555019Z"
    },
    "tags": []
   },
   "outputs": [
    {
     "name": "stdout",
     "output_type": "stream",
     "text": [
      "EPOCH 1\n",
      "Train Loss: 3.2782\n",
      "EPOCH 2\n",
      "Train Loss: 3.2932\n",
      "EPOCH 3\n",
      "Train Loss: 3.2859\n",
      "EPOCH 4\n",
      "Train Loss: 3.2951\n",
      "EPOCH 5\n",
      "Train Loss: 3.2790\n",
      "EPOCH 6\n",
      "Train Loss: 3.2915\n",
      "EPOCH 7\n",
      "Train Loss: 3.2887\n",
      "EPOCH 8\n",
      "Train Loss: 3.2860\n",
      "EPOCH 9\n",
      "Train Loss: 3.2871\n",
      "EPOCH 10\n",
      "Train Loss: 3.2818\n"
     ]
    }
   ],
   "source": [
    "for i in range(EPOCHS):\n",
    "    print(f\"EPOCH {i+1}\")\n",
    "    train_one_epoch(\n",
    "        model=model_segformer,\n",
    "        train_loader=train_loader,\n",
    "        criterion=criterion_segformer,\n",
    "        optimizer=optimizer_segformer,\n",
    "        device=device,\n",
    "    )"
   ]
  },
  {
   "cell_type": "markdown",
   "id": "4fa5766e-99e8-482c-bc2c-bd5bcab84910",
   "metadata": {},
   "source": [
    "### Оценка моделей"
   ]
  },
  {
   "cell_type": "markdown",
   "id": "df84f1e6-434d-47bb-a521-180b4b75bfdc",
   "metadata": {},
   "source": [
    "Оценка Unet"
   ]
  },
  {
   "cell_type": "code",
   "execution_count": 61,
   "id": "b4a29220-5fa4-42c3-a4c3-374b1ddeea29",
   "metadata": {
    "execution": {
     "iopub.execute_input": "2025-04-18T14:51:23.748684Z",
     "iopub.status.busy": "2025-04-18T14:51:23.748235Z",
     "iopub.status.idle": "2025-04-18T14:51:50.168592Z",
     "shell.execute_reply": "2025-04-18T14:51:50.167595Z",
     "shell.execute_reply.started": "2025-04-18T14:51:23.748664Z"
    }
   },
   "outputs": [
    {
     "name": "stdout",
     "output_type": "stream",
     "text": [
      "Hamming Loss: 0.6631\n",
      "F1 Score: 0.4430\n",
      "mAP (mean IoU): 0.0606\n"
     ]
    }
   ],
   "source": [
    "evaluate(model=model_unet, val_loader=test_loader, device=device)"
   ]
  },
  {
   "cell_type": "markdown",
   "id": "9bab0bd9-62ec-42a2-b906-401ae9ea4507",
   "metadata": {},
   "source": [
    "Оценка Segformer"
   ]
  },
  {
   "cell_type": "code",
   "execution_count": 62,
   "id": "cf9aa495-ed91-4b08-bbb1-ea331daaa55e",
   "metadata": {
    "execution": {
     "iopub.execute_input": "2025-04-18T14:51:50.169897Z",
     "iopub.status.busy": "2025-04-18T14:51:50.169568Z",
     "iopub.status.idle": "2025-04-18T14:52:12.632603Z",
     "shell.execute_reply": "2025-04-18T14:52:12.631327Z",
     "shell.execute_reply.started": "2025-04-18T14:51:50.169877Z"
    }
   },
   "outputs": [
    {
     "name": "stdout",
     "output_type": "stream",
     "text": [
      "Hamming Loss: 0.9582\n",
      "F1 Score: 0.0705\n",
      "mAP (mean IoU): 0.0057\n"
     ]
    }
   ],
   "source": [
    "evaluate(model=model_segformer, val_loader=test_loader, device=device)"
   ]
  },
  {
   "cell_type": "markdown",
   "id": "f1fbd97b-ed58-4682-8632-6ba3314bacce",
   "metadata": {},
   "source": [
    "### Сравнение результатов\n",
    "\n",
    "|              | Unet (base)  | Unet (upgrade) | Segformer (base)    | Segformer (upgrade) |\n",
    "|--------------|:------------:|:--------------:|:-------------------:|:-------------------:|\n",
    "| Hamming Loss | 0.7594       | 0.6631         | 0.9767              | 0.9582              |\n",
    "| F1 Score     | 0.3290       | 0.4430         | 0.0161              | 0.0705              |\n",
    "| mAP          | 0.0290       | 0.0606         | 0.0175              | 0.0057              |"
   ]
  },
  {
   "cell_type": "markdown",
   "id": "004b5d88-2c65-49d7-82d4-b0d459250ba1",
   "metadata": {},
   "source": [
    "### Выводы\n",
    "\n",
    "Метрики для Unet стали немного лучше. Возможно, следовало бы увеличить количество эпох -- тогда бы результат стал ещё лучше. Метрики Segformer остались плохими. Нужно строить и проверять другие гипотезы."
   ]
  },
  {
   "cell_type": "markdown",
   "id": "ca3a7983-1f2f-404a-92ee-6edea6d8e368",
   "metadata": {},
   "source": [
    "## Имплементация алгоритма машинного обучения "
   ]
  },
  {
   "cell_type": "markdown",
   "id": "9871be8a-2099-4cfc-aeae-f572158c8747",
   "metadata": {},
   "source": [
    "### Имплементации моделей"
   ]
  },
  {
   "cell_type": "markdown",
   "id": "6a9e6bb5-8c91-4bbd-91ae-567bbb93f994",
   "metadata": {},
   "source": [
    "Напишем упрощенную имплементацию модели Unet"
   ]
  },
  {
   "cell_type": "code",
   "execution_count": 2,
   "id": "f61cdb04-390c-4a99-8fbd-a468581e095a",
   "metadata": {
    "execution": {
     "iopub.execute_input": "2025-04-18T15:38:47.480725Z",
     "iopub.status.busy": "2025-04-18T15:38:47.480237Z",
     "iopub.status.idle": "2025-04-18T15:38:47.494051Z",
     "shell.execute_reply": "2025-04-18T15:38:47.493251Z",
     "shell.execute_reply.started": "2025-04-18T15:38:47.480703Z"
    },
    "tags": []
   },
   "outputs": [],
   "source": [
    "class UNet(nn.Module):\n",
    "    def __init__(self, in_channels, out_channels):\n",
    "        super(UNet, self).__init__()\n",
    "        self.encoder = nn.Sequential(\n",
    "            self.conv_block(in_channels, 64),\n",
    "            self.conv_block(64, 128),\n",
    "        )\n",
    "        \n",
    "        self.decoder = nn.Sequential(\n",
    "            self.conv_block(128, 64),\n",
    "            nn.Conv2d(64, out_channels, kernel_size=1)\n",
    "        )\n",
    "        \n",
    "    def conv_block(self, in_channels, out_channels):\n",
    "        return nn.Sequential(\n",
    "            nn.Conv2d(in_channels, out_channels, kernel_size=3, padding=1),\n",
    "            nn.ReLU(),\n",
    "            nn.Conv2d(out_channels, out_channels, kernel_size=3, padding=1),\n",
    "            nn.ReLU()\n",
    "        )\n",
    "    \n",
    "    def forward(self, x):\n",
    "        x1 = self.encoder(x)\n",
    "        x2 = self.decoder(x1)\n",
    "        return x2"
   ]
  },
  {
   "cell_type": "markdown",
   "id": "3b8d7500-d698-44a6-9fef-daf80e024724",
   "metadata": {},
   "source": [
    "Напишем упрощенную имлементацию Vision Transformer"
   ]
  },
  {
   "cell_type": "code",
   "execution_count": 32,
   "id": "6fe3870a-9f69-416a-a9e3-4a9a8b15f5d3",
   "metadata": {
    "execution": {
     "iopub.execute_input": "2025-04-18T16:07:02.874681Z",
     "iopub.status.busy": "2025-04-18T16:07:02.874151Z",
     "iopub.status.idle": "2025-04-18T16:07:02.902382Z",
     "shell.execute_reply": "2025-04-18T16:07:02.901661Z",
     "shell.execute_reply.started": "2025-04-18T16:07:02.874640Z"
    },
    "tags": []
   },
   "outputs": [],
   "source": [
    "class SimpleViT(nn.Module):\n",
    "    def __init__(self, image_size, patch_size, num_classes, dim, depth, heads, mlp_dim, channels=3):\n",
    "        super().__init__()\n",
    "\n",
    "        assert image_size % patch_size == 0, 'Image dimensions must be divisible by the patch size.'\n",
    "\n",
    "        num_patches = (image_size // patch_size) ** 2\n",
    "        patch_dim = channels * patch_size ** 2\n",
    "        \n",
    "        self.patch_size = patch_size\n",
    "\n",
    "        # Переход на патчей\n",
    "        self.to_patch_embedding = nn.Sequential(\n",
    "            Rearrange('b c (h p1) (w p2) -> b (h w) (p1 p2 c)', p1=patch_size, p2=patch_size),\n",
    "            nn.Linear(patch_dim, dim),\n",
    "        )\n",
    "\n",
    "        self.pos_embedding = nn.Parameter(torch.randn(1, num_patches, dim))\n",
    "\n",
    "        encoder_layer = nn.TransformerEncoderLayer(d_model=dim, nhead=heads, dim_feedforward=mlp_dim)\n",
    "        self.transformer_encoder = nn.TransformerEncoder(encoder_layer, num_layers=depth)\n",
    "\n",
    "        # Генерация выхода\n",
    "        self.to_out = nn.Sequential(\n",
    "            nn.Linear(dim, dim),\n",
    "            nn.ReLU(),\n",
    "            nn.Linear(dim, num_classes)\n",
    "        )\n",
    "\n",
    "    def forward(self, img):\n",
    "        x = self.to_patch_embedding(img)\n",
    "        x += self.pos_embedding\n",
    "\n",
    "        x = self.transformer_encoder(x)\n",
    "\n",
    "        x = self.to_out(x)  # (B, num_patches, num_classes)\n",
    "\n",
    "        # Рассчитываем размер перед изменением формы\n",
    "        n_patches = img.shape[2] // self.patch_size\n",
    "        x = x.permute(0, 2, 1).reshape(img.shape[0], -1, n_patches, n_patches)\n",
    "        \n",
    "        # Интерполяция до исходного размера изображения\n",
    "        x = nn.functional.interpolate(x, size=(img.shape[2], img.shape[3]), mode='bilinear', align_corners=False)\n",
    "\n",
    "        return x"
   ]
  },
  {
   "cell_type": "markdown",
   "id": "5b8309d9-07c3-48dd-9816-d0ef0fc83fa6",
   "metadata": {},
   "source": [
    "### Обучение моделей"
   ]
  },
  {
   "cell_type": "markdown",
   "id": "1795d5fe-df22-4a81-9b2c-9cf243f415fe",
   "metadata": {},
   "source": [
    "Подготовка датасета"
   ]
  },
  {
   "cell_type": "code",
   "execution_count": 8,
   "id": "c05d766f-4a72-498c-862e-af59e965440e",
   "metadata": {
    "execution": {
     "iopub.execute_input": "2025-04-18T15:39:22.104334Z",
     "iopub.status.busy": "2025-04-18T15:39:22.103857Z",
     "iopub.status.idle": "2025-04-18T15:39:22.135552Z",
     "shell.execute_reply": "2025-04-18T15:39:22.134746Z",
     "shell.execute_reply.started": "2025-04-18T15:39:22.104311Z"
    },
    "tags": []
   },
   "outputs": [],
   "source": [
    "transform = transforms.Compose(\n",
    "    [\n",
    "        transforms.Resize(INPUT_DIM),\n",
    "        transforms.ToTensor(),\n",
    "        transforms.Normalize(mean=(0.485, 0.456, 0.406), std=(0.229, 0.224, 0.225)),\n",
    "    ]\n",
    ")\n",
    "target_transform = transforms.Compose(\n",
    "    [\n",
    "        transforms.Resize(\n",
    "            INPUT_DIM, interpolation=transforms.InterpolationMode.NEAREST\n",
    "        ),\n",
    "        transforms.Lambda(lambda t: torch.as_tensor(np.array(t), dtype=torch.int64)),\n",
    "    ]\n",
    ")\n",
    "\n",
    "train_dataset = VOCSegmentation(\n",
    "    root=\"./data\",\n",
    "    year=\"2007\",\n",
    "    image_set=\"train\",\n",
    "    transform=transform,\n",
    "    target_transform=target_transform,\n",
    ")\n",
    "test_dataset = VOCSegmentation(\n",
    "    root=\"./data\",\n",
    "    year=\"2007\",\n",
    "    image_set=\"val\",\n",
    "    transform=transform,\n",
    "    target_transform=target_transform,\n",
    ")\n",
    "\n",
    "train_loader = DataLoader(\n",
    "    dataset=train_dataset,\n",
    "    batch_size=BATCH_SIZE,\n",
    "    shuffle=True,\n",
    ")\n",
    "test_loader = DataLoader(\n",
    "    dataset=test_dataset,\n",
    "    batch_size=BATCH_SIZE,\n",
    "    shuffle=False,\n",
    ")"
   ]
  },
  {
   "cell_type": "markdown",
   "id": "56e78943-866b-40d6-8546-66f30ba7b872",
   "metadata": {},
   "source": [
    "Обучение сверточной модели"
   ]
  },
  {
   "cell_type": "code",
   "execution_count": 12,
   "id": "0834bf55-79cf-4d47-8126-7ce438446e2c",
   "metadata": {
    "execution": {
     "iopub.execute_input": "2025-04-18T15:39:36.240858Z",
     "iopub.status.busy": "2025-04-18T15:39:36.240379Z",
     "iopub.status.idle": "2025-04-18T15:41:15.127480Z",
     "shell.execute_reply": "2025-04-18T15:41:15.126570Z",
     "shell.execute_reply.started": "2025-04-18T15:39:36.240833Z"
    },
    "tags": []
   },
   "outputs": [
    {
     "name": "stdout",
     "output_type": "stream",
     "text": [
      "Train Loss: 2.9463\n"
     ]
    }
   ],
   "source": [
    "LEARNING_RATE = 0.0001\n",
    "\n",
    "in_channels = 3\n",
    "out_channels = NUM_CLASSES\n",
    "    \n",
    "model_unet_simple = UNet(in_channels, out_channels).to(device)\n",
    "criterion_unet_simple = nn.CrossEntropyLoss(ignore_index=255)\n",
    "optimizer_unet_simple = torch.optim.Adam(model_unet_simple.parameters(), lr=LEARNING_RATE)\n",
    "\n",
    "train_one_epoch(\n",
    "    model=model_unet_simple,\n",
    "    train_loader=train_loader,\n",
    "    criterion=criterion_unet_simple,\n",
    "    optimizer=optimizer_unet_simple,\n",
    "    device=device,\n",
    ")"
   ]
  },
  {
   "cell_type": "markdown",
   "id": "ee3c40fd-1e24-49e9-aa2d-c896cc09a735",
   "metadata": {},
   "source": [
    "Обучение трансформерной модели"
   ]
  },
  {
   "cell_type": "code",
   "execution_count": 35,
   "id": "81bec46a-c0e7-43c4-89a4-5f123df472c2",
   "metadata": {
    "execution": {
     "iopub.execute_input": "2025-04-18T16:07:29.095947Z",
     "iopub.status.busy": "2025-04-18T16:07:29.095476Z",
     "iopub.status.idle": "2025-04-18T16:07:32.726116Z",
     "shell.execute_reply": "2025-04-18T16:07:32.725375Z",
     "shell.execute_reply.started": "2025-04-18T16:07:29.095924Z"
    },
    "tags": []
   },
   "outputs": [
    {
     "name": "stdout",
     "output_type": "stream",
     "text": [
      "Train Loss: 2.7387\n"
     ]
    }
   ],
   "source": [
    "LEARNING_RATE = 0.0001\n",
    "image_size = INPUT_DIM[0]\n",
    "patch_size = 16\n",
    "num_classes = NUM_CLASSES\n",
    "dim = 64\n",
    "depth = 6\n",
    "heads = 8\n",
    "mlp_dim = 128\n",
    "\n",
    "model_vit = SimpleViT(image_size=image_size, patch_size=patch_size, num_classes=num_classes, dim=dim, depth=depth, heads=heads, mlp_dim=mlp_dim).to(device)\n",
    "criterion_vit = nn.CrossEntropyLoss(ignore_index=255)\n",
    "optimizer_vit = torch.optim.Adam(model_vit.parameters(), lr=LEARNING_RATE)\n",
    "\n",
    "train_one_epoch(\n",
    "    model=model_vit,\n",
    "    train_loader=train_loader,\n",
    "    criterion=criterion_vit,\n",
    "    optimizer=optimizer_vit,\n",
    "    device=device,\n",
    ")"
   ]
  },
  {
   "cell_type": "markdown",
   "id": "0387eaf2-2a36-4d57-ad7c-ce95f46d8203",
   "metadata": {},
   "source": [
    "### Оценка моделей"
   ]
  },
  {
   "cell_type": "markdown",
   "id": "8c82a7f6-01d4-41b7-b1bf-7d7e497c4bab",
   "metadata": {},
   "source": [
    "Оценка сверточной модели"
   ]
  },
  {
   "cell_type": "code",
   "execution_count": 37,
   "id": "5ef7b156-ed0f-417a-9d8a-fed859179352",
   "metadata": {
    "execution": {
     "iopub.execute_input": "2025-04-18T16:08:44.823500Z",
     "iopub.status.busy": "2025-04-18T16:08:44.823105Z",
     "iopub.status.idle": "2025-04-18T16:09:30.820089Z",
     "shell.execute_reply": "2025-04-18T16:09:30.818888Z",
     "shell.execute_reply.started": "2025-04-18T16:08:44.823479Z"
    },
    "tags": []
   },
   "outputs": [
    {
     "name": "stdout",
     "output_type": "stream",
     "text": [
      "Hamming Loss: 0.3307\n",
      "F1 Score: 0.6025\n",
      "mAP (mean IoU): 0.0341\n"
     ]
    }
   ],
   "source": [
    "evaluate(model=model_unet_simple, val_loader=test_loader, device=device)"
   ]
  },
  {
   "cell_type": "markdown",
   "id": "92b223e1-a450-477a-879f-2b44d79f7b18",
   "metadata": {},
   "source": [
    "Оценка трансформерной модели"
   ]
  },
  {
   "cell_type": "code",
   "execution_count": 38,
   "id": "6d12f99f-49ca-4b84-8fe6-a84916cb92d9",
   "metadata": {
    "execution": {
     "iopub.execute_input": "2025-04-18T16:09:30.821944Z",
     "iopub.status.busy": "2025-04-18T16:09:30.821514Z",
     "iopub.status.idle": "2025-04-18T16:09:43.596159Z",
     "shell.execute_reply": "2025-04-18T16:09:43.595241Z",
     "shell.execute_reply.started": "2025-04-18T16:09:30.821922Z"
    }
   },
   "outputs": [
    {
     "name": "stdout",
     "output_type": "stream",
     "text": [
      "Hamming Loss: 0.2622\n",
      "F1 Score: 0.6268\n",
      "mAP (mean IoU): 0.0352\n"
     ]
    }
   ],
   "source": [
    "evaluate(model=model_vit, val_loader=test_loader, device=device)"
   ]
  },
  {
   "cell_type": "markdown",
   "id": "c510a32c-69fc-44f3-8e08-845374149e0d",
   "metadata": {
    "execution": {
     "iopub.execute_input": "2025-04-18T16:10:05.681647Z",
     "iopub.status.busy": "2025-04-18T16:10:05.681165Z",
     "iopub.status.idle": "2025-04-18T16:10:05.694164Z",
     "shell.execute_reply": "2025-04-18T16:10:05.693356Z",
     "shell.execute_reply.started": "2025-04-18T16:10:05.681624Z"
    }
   },
   "source": [
    "### Сравнение результатов с базовыми моделями\n",
    "\n",
    "|              | Unet (base)  | Simple Unet | Segformer (base) | Simple ViT          |\n",
    "|--------------|:------------:|:-----------:|:----------------:|:-------------------:|\n",
    "| Hamming Loss | 0.7594       | 0.3307      | 0.9767           | 0.2622              |\n",
    "| F1 Score     | 0.3290       | 0.6025      | 0.0161           | 0.6268              |\n",
    "| mAP          | 0.0290       | 0.0341      | 0.0175           | 0.0352              |"
   ]
  },
  {
   "cell_type": "markdown",
   "id": "aab08397-1a31-4b9c-a16c-deb696b0a1ed",
   "metadata": {},
   "source": [
    "### Выводы\n",
    "\n",
    "Имплементированные модели могли оказаться лучше базовых, потому что они были оптимизированы для конкретных данных, что повысило их эффективность и точность. Либо базовые модели были плохо настроены изначально."
   ]
  },
  {
   "cell_type": "markdown",
   "id": "b724358d-ab7d-4255-a7cb-c252993a81e9",
   "metadata": {},
   "source": [
    "### Добавление техник из улучшенного бейзлайна"
   ]
  },
  {
   "cell_type": "markdown",
   "id": "76c90ad3-052f-41ae-8e86-c2ea737189b9",
   "metadata": {},
   "source": [
    "Формирование датасета"
   ]
  },
  {
   "cell_type": "code",
   "execution_count": 43,
   "id": "7870db5e-68a6-4bc9-9e66-4e0b5160a82b",
   "metadata": {
    "execution": {
     "iopub.execute_input": "2025-04-18T16:21:15.655509Z",
     "iopub.status.busy": "2025-04-18T16:21:15.654432Z",
     "iopub.status.idle": "2025-04-18T16:21:15.691957Z",
     "shell.execute_reply": "2025-04-18T16:21:15.691255Z",
     "shell.execute_reply.started": "2025-04-18T16:21:15.655485Z"
    },
    "tags": []
   },
   "outputs": [],
   "source": [
    "train_dataset_orig = VOCSegmentation(\n",
    "    root=\"./data\",\n",
    "    year=\"2007\",\n",
    "    image_set=\"train\",\n",
    ")\n",
    "\n",
    "train_dataset = VOCDataset(train_dataset_orig, augmentations=augmentations)\n",
    "\n",
    "train_loader = DataLoader(\n",
    "    dataset=train_dataset,\n",
    "    batch_size=BATCH_SIZE,\n",
    "    shuffle=True\n",
    ")"
   ]
  },
  {
   "cell_type": "markdown",
   "id": "6ac51520-5696-4a89-8682-6c7f2cd2e6f3",
   "metadata": {},
   "source": [
    "Улучшение сверточной модели"
   ]
  },
  {
   "cell_type": "code",
   "execution_count": 45,
   "id": "12184562-c57f-4b92-88dd-54af3b85d0b7",
   "metadata": {
    "execution": {
     "iopub.execute_input": "2025-04-18T16:22:50.425023Z",
     "iopub.status.busy": "2025-04-18T16:22:50.424558Z",
     "iopub.status.idle": "2025-04-18T16:22:50.452777Z",
     "shell.execute_reply": "2025-04-18T16:22:50.451899Z",
     "shell.execute_reply.started": "2025-04-18T16:22:50.425002Z"
    },
    "tags": []
   },
   "outputs": [],
   "source": [
    "EPOCHS = 10\n",
    "LEARNING_RATE = 0.0001\n",
    "\n",
    "model_unet_simple = UNet(in_channels, out_channels).to(device)\n",
    "criterion_unet_simple = nn.CrossEntropyLoss(ignore_index=255)\n",
    "optimizer_unet_simple = torch.optim.Adam(model_unet_simple.parameters(), lr=LEARNING_RATE)"
   ]
  },
  {
   "cell_type": "markdown",
   "id": "59680a64-4c01-46fc-8cee-2f4aa3babd6d",
   "metadata": {},
   "source": [
    "Улучшение трансформерной модели"
   ]
  },
  {
   "cell_type": "code",
   "execution_count": 46,
   "id": "e2483b86-5416-44cf-8dd2-1ce17ab127b1",
   "metadata": {
    "execution": {
     "iopub.execute_input": "2025-04-18T16:23:20.407514Z",
     "iopub.status.busy": "2025-04-18T16:23:20.407096Z",
     "iopub.status.idle": "2025-04-18T16:23:20.430390Z",
     "shell.execute_reply": "2025-04-18T16:23:20.429591Z",
     "shell.execute_reply.started": "2025-04-18T16:23:20.407493Z"
    }
   },
   "outputs": [],
   "source": [
    "model_vit = SimpleViT(image_size=image_size, patch_size=patch_size, num_classes=num_classes, dim=dim, depth=depth, heads=heads, mlp_dim=mlp_dim).to(device)\n",
    "criterion_vit = nn.CrossEntropyLoss(ignore_index=255)\n",
    "optimizer_vit = torch.optim.Adam(model_vit.parameters(), lr=LEARNING_RATE)"
   ]
  },
  {
   "cell_type": "markdown",
   "id": "9476ca48-caae-4ac9-81a3-e7ae9bc72115",
   "metadata": {},
   "source": [
    "### Обучение улучшенных моделей"
   ]
  },
  {
   "cell_type": "markdown",
   "id": "7281f45c-88ac-4d3f-800a-05e3fe2b0c20",
   "metadata": {},
   "source": [
    "Обучение сверточной модели"
   ]
  },
  {
   "cell_type": "code",
   "execution_count": 47,
   "id": "3ce20c86-caf2-4528-95d2-68ca283d2ee0",
   "metadata": {
    "execution": {
     "iopub.execute_input": "2025-04-18T16:23:34.703747Z",
     "iopub.status.busy": "2025-04-18T16:23:34.703306Z",
     "iopub.status.idle": "2025-04-18T16:39:53.184469Z",
     "shell.execute_reply": "2025-04-18T16:39:53.183491Z",
     "shell.execute_reply.started": "2025-04-18T16:23:34.703725Z"
    }
   },
   "outputs": [
    {
     "name": "stdout",
     "output_type": "stream",
     "text": [
      "EPOCH 1\n",
      "Train Loss: 2.7845\n",
      "EPOCH 2\n",
      "Train Loss: 1.7260\n",
      "EPOCH 3\n",
      "Train Loss: 1.5469\n",
      "EPOCH 4\n",
      "Train Loss: 1.4593\n",
      "EPOCH 5\n",
      "Train Loss: 1.3986\n",
      "EPOCH 6\n",
      "Train Loss: 1.3675\n",
      "EPOCH 7\n",
      "Train Loss: 1.3531\n",
      "EPOCH 8\n",
      "Train Loss: 1.3353\n",
      "EPOCH 9\n",
      "Train Loss: 1.3103\n",
      "EPOCH 10\n",
      "Train Loss: 1.2957\n"
     ]
    }
   ],
   "source": [
    "for i in range(EPOCHS):\n",
    "    print(f\"EPOCH {i+1}\")\n",
    "    train_one_epoch(\n",
    "        model=model_unet_simple,\n",
    "        train_loader=train_loader,\n",
    "        criterion=criterion_unet_simple,\n",
    "        optimizer=optimizer_unet_simple,\n",
    "        device=device,\n",
    "    )"
   ]
  },
  {
   "cell_type": "markdown",
   "id": "027d7966-ebc8-494c-b618-e24911ba902a",
   "metadata": {},
   "source": [
    "Обучение трансформерной модели"
   ]
  },
  {
   "cell_type": "code",
   "execution_count": 48,
   "id": "b9de2bfb-740e-4857-971f-85556aa3a9d8",
   "metadata": {
    "execution": {
     "iopub.execute_input": "2025-04-18T16:39:53.185925Z",
     "iopub.status.busy": "2025-04-18T16:39:53.185605Z",
     "iopub.status.idle": "2025-04-18T16:40:36.364005Z",
     "shell.execute_reply": "2025-04-18T16:40:36.363094Z",
     "shell.execute_reply.started": "2025-04-18T16:39:53.185905Z"
    }
   },
   "outputs": [
    {
     "name": "stdout",
     "output_type": "stream",
     "text": [
      "EPOCH 1\n",
      "Train Loss: 2.5208\n",
      "EPOCH 2\n",
      "Train Loss: 1.9067\n",
      "EPOCH 3\n",
      "Train Loss: 1.5717\n",
      "EPOCH 4\n",
      "Train Loss: 1.4242\n",
      "EPOCH 5\n",
      "Train Loss: 1.3585\n",
      "EPOCH 6\n",
      "Train Loss: 1.3353\n",
      "EPOCH 7\n",
      "Train Loss: 1.3225\n",
      "EPOCH 8\n",
      "Train Loss: 1.3163\n",
      "EPOCH 9\n",
      "Train Loss: 1.3105\n",
      "EPOCH 10\n",
      "Train Loss: 1.3068\n"
     ]
    }
   ],
   "source": [
    "for i in range(EPOCHS):\n",
    "    print(f\"EPOCH {i+1}\")\n",
    "    train_one_epoch(\n",
    "        model=model_vit,\n",
    "        train_loader=train_loader,\n",
    "        criterion=criterion_vit,\n",
    "        optimizer=optimizer_vit,\n",
    "        device=device,\n",
    "    )"
   ]
  },
  {
   "cell_type": "markdown",
   "id": "c82b50a3-1f0c-49d5-be7f-e8fb9c458b2a",
   "metadata": {},
   "source": [
    "### Оценка улучшенных моделей"
   ]
  },
  {
   "cell_type": "markdown",
   "id": "1d10d578-ca4d-42c0-b359-bf99a09a275c",
   "metadata": {},
   "source": [
    "Оценка сверточной модели"
   ]
  },
  {
   "cell_type": "code",
   "execution_count": 49,
   "id": "f5224dd2-309f-4d64-a54e-f872aef4f96d",
   "metadata": {
    "execution": {
     "iopub.execute_input": "2025-04-18T16:43:52.136303Z",
     "iopub.status.busy": "2025-04-18T16:43:52.135854Z",
     "iopub.status.idle": "2025-04-18T16:44:38.803488Z",
     "shell.execute_reply": "2025-04-18T16:44:38.802560Z",
     "shell.execute_reply.started": "2025-04-18T16:43:52.136281Z"
    }
   },
   "outputs": [
    {
     "name": "stdout",
     "output_type": "stream",
     "text": [
      "Hamming Loss: 0.2618\n",
      "F1 Score: 0.6270\n",
      "mAP (mean IoU): 0.0352\n"
     ]
    }
   ],
   "source": [
    "evaluate(model=model_unet_simple, val_loader=test_loader, device=device)"
   ]
  },
  {
   "cell_type": "markdown",
   "id": "6c15a802-4318-41ad-aabb-3ff5f4258436",
   "metadata": {},
   "source": [
    "Оценка трансформерной модели"
   ]
  },
  {
   "cell_type": "code",
   "execution_count": 50,
   "id": "407662a1-4134-44e8-b293-f5c38b098db5",
   "metadata": {
    "execution": {
     "iopub.execute_input": "2025-04-18T16:46:04.378662Z",
     "iopub.status.busy": "2025-04-18T16:46:04.378295Z",
     "iopub.status.idle": "2025-04-18T16:46:17.668575Z",
     "shell.execute_reply": "2025-04-18T16:46:17.667575Z",
     "shell.execute_reply.started": "2025-04-18T16:46:04.378640Z"
    }
   },
   "outputs": [
    {
     "name": "stdout",
     "output_type": "stream",
     "text": [
      "Hamming Loss: 0.2618\n",
      "F1 Score: 0.6270\n",
      "mAP (mean IoU): 0.0352\n"
     ]
    }
   ],
   "source": [
    "evaluate(model=model_vit, val_loader=test_loader, device=device)"
   ]
  },
  {
   "cell_type": "markdown",
   "id": "722b6ad8-d3db-476b-9ce8-73f89692d1b9",
   "metadata": {},
   "source": [
    "### Сравнение результатов с улучшенным бейзлайном\n",
    "\n",
    "|              |Unet (upgrade)| Simple Unet (upgrade) |Segformer (upgrade)| Simple ViT (upgrade) |\n",
    "|--------------|:------------:|:---------------------:|:-----------------:|:--------------------:|\n",
    "| Hamming Loss | 0.6631       | 0.2618                | 0.9582            | 0.2618               |\n",
    "| F1 Score     | 0.4430       | 0.6270                | 0.0705            | 0.6270               |\n",
    "| mAP          | 0.0606       | 0.0352                | 0.0057            | 0.0352               |\n"
   ]
  },
  {
   "cell_type": "markdown",
   "id": "9da4a37f-e4c2-4f12-b3c5-18b25e636e7c",
   "metadata": {},
   "source": [
    "### Выводы\n",
    "\n",
    "Имплементированные модели могли оказаться лучше базовых , потому что они были оптимизированы для конкретных данных, что повысило их эффективность и точность. Либо базовые модели были плохо настроены изначально."
   ]
  }
 ],
 "metadata": {
  "kernelspec": {
   "display_name": "DataSphere Kernel",
   "language": "python",
   "name": "python3"
  },
  "language_info": {
   "codemirror_mode": {
    "name": "ipython",
    "version": 3
   },
   "file_extension": ".py",
   "mimetype": "text/x-python",
   "name": "python",
   "nbconvert_exporter": "python",
   "pygments_lexer": "ipython3",
   "version": "3.10.12"
  }
 },
 "nbformat": 4,
 "nbformat_minor": 5
}
